{
  "cells": [
    {
      "cell_type": "markdown",
      "metadata": {},
      "source": [
        "# DATASCI 101, Homework 03"
      ]
    },
    {
      "cell_type": "code",
      "execution_count": 2,
      "metadata": {},
      "outputs": [],
      "source": [
        "# basic setup, run this first\n",
        "import warnings\n",
        "warnings.simplefilter(action='ignore', category=FutureWarning)\n",
        "import numpy as np"
      ]
    },
    {
      "cell_type": "markdown",
      "metadata": {},
      "source": [
        "## Question 1\n",
        "\n",
        "We will start this homework with some questions on collections in Python.\n",
        "\n",
        "### Q1.a\n",
        "\n",
        "Recall that *sets* are collections where each value in the collection only appears once.\n",
        "\n",
        "Using the `set` function, turn both of these strings into sets. Then use set methods to find\n",
        "\n",
        "* How many letters are shared between the two names?\n",
        "* Which letters are in \"George Washington\" that are not in \"Abraham Lincoln\"?\n",
        "* How many letters are in neither president's name?\n"
      ]
    },
    {
      "cell_type": "code",
      "execution_count": 3,
      "metadata": {},
      "outputs": [
        {
          "name": "stdout",
          "output_type": "stream",
          "text": [
            "7\n",
            "{'t', 'g', 'w', 's', 'e'}\n",
            "11\n"
          ]
        }
      ],
      "source": [
        "gw = \"George Washington\".lower()\n",
        "al = \"Abraham Lincoln\".lower()\n",
        "az = \"abcdefghijklmnopqrstuvwxyz\"\n",
        "set1 = set(gw)\n",
        "set2 = set(al)\n",
        "set3 = set(az)\n",
        "sharedletters = set1.intersection(set2)\n",
        "print (len(sharedletters))\n",
        "print (set1.difference(set2))\n",
        "print (len(set3.difference(set1) & set3.difference(set2)))\n"
      ]
    },
    {
      "cell_type": "markdown",
      "metadata": {},
      "source": [
        "### Q1.b\n",
        "\n",
        "\n",
        "\n",
        "Use a `for` loop to find the unique values in the lunch orders below. Using Python, print out the number of unique items being ordered. (*Hint*: You can use `set()` to create an empty set.)"
      ]
    },
    {
      "cell_type": "code",
      "execution_count": 4,
      "metadata": {},
      "outputs": [
        {
          "name": "stdout",
          "output_type": "stream",
          "text": [
            "{'sandwich', 'fries', 'coffee', 'salad', 'water', 'pasta', 'cookie'}\n",
            "7\n"
          ]
        }
      ],
      "source": [
        "lunch_orders = [{\"pasta\", \"coffee\"},\n",
        "                {\"fries\",\"sandwich\", \"cookie\"},\n",
        "                {\"pasta\", \"salad\", \"water\"},\n",
        "                {\"salad\", \"pasta\", \"coffee\"},\n",
        "                {\"sandwich\", \"water\"}]\n",
        "unique_values = set()\n",
        "for i in lunch_orders:\n",
        "    for value in i:\n",
        "        unique_values.add(value)\n",
        "print(unique_values)\n",
        "print (len(unique_values))"
      ]
    },
    {
      "cell_type": "markdown",
      "metadata": {},
      "source": [
        "### Q1.c\n",
        "\n",
        "Here is a menu at the resturant, with items and their cost:\n",
        "\n",
        "| Item | Price | Vegetarian |\n",
        "| --- | --- | --- |\n",
        "| salad | 8 | True |\n",
        "| soup | 5 | False |\n",
        "| pasta | 12 | True |\n",
        "| sandwich | 9 | False |\n",
        "| burger | 13 | False |\n",
        "| fries | 6 | True |\n",
        "| cake | 6 | True |\n",
        "| cookie| 3 | True |\n",
        "| water | 0 | True |\n",
        "| coffee| 2 | True |\n",
        "| soda | 3 | True |\n",
        "\n",
        "Create a dictionary called `menu` that has the item names as keys and a two-tuple with (price, vegetarian) as the value.\n",
        "\n",
        "Demonstrate by retrieving the price and vegetarian status of \"burger\".\n",
        "\n"
      ]
    },
    {
      "cell_type": "code",
      "execution_count": 5,
      "metadata": {},
      "outputs": [
        {
          "data": {
            "text/plain": [
              "(13, False)"
            ]
          },
          "execution_count": 5,
          "metadata": {},
          "output_type": "execute_result"
        }
      ],
      "source": [
        "menu = {'salad':(8, True), 'soup':(5, False), 'pasta':(12, True), 'sandwich':(9,False), 'burger':(13,False), 'fries':(6,True), 'cake':(6, True), 'cookie':(3, True), 'water':(0,True), 'coffee':(2,True), 'soda':(3,True)}\n",
        "menu['burger']"
      ]
    },
    {
      "cell_type": "markdown",
      "metadata": {},
      "source": [
        "\n",
        "\n",
        "### Q1.d\n",
        "\n",
        "Write a function that takes a lunch order (a set of menu items) and returns the total price.\n",
        "\n",
        "Write a function that takes a lunch order a returns true if the entire order is vegetarian.\n",
        "\n",
        "Use list comprehensions to compute the price of each order and whether each order is vegtarian."
      ]
    },
    {
      "cell_type": "code",
      "execution_count": 6,
      "metadata": {},
      "outputs": [
        {
          "data": {
            "text/plain": [
              "['HELLO', 'WORLD']"
            ]
          },
          "execution_count": 6,
          "metadata": {},
          "output_type": "execute_result"
        }
      ],
      "source": [
        "# Hints: try running the following code\n",
        "(\"this\", \"is\", \"a tuple\")[1]\n",
        "[s.upper() for s in {\"hello\", \"world\"}]"
      ]
    },
    {
      "cell_type": "code",
      "execution_count": 7,
      "metadata": {},
      "outputs": [
        {
          "name": "stdout",
          "output_type": "stream",
          "text": [
            "[21.0]\n"
          ]
        }
      ],
      "source": [
        "def lunch_price (order, menu):\n",
        "    total_price = 0.0\n",
        "    for item in order:\n",
        "        if item in menu:\n",
        "            total_price += menu[item][0]\n",
        "    return [total_price]\n",
        "\n",
        "lunch_order = {'salad', 'burger', 'water'} \n",
        "total = lunch_price(lunch_order, menu)\n",
        "print (total)"
      ]
    },
    {
      "cell_type": "code",
      "execution_count": 8,
      "metadata": {},
      "outputs": [
        {
          "name": "stdout",
          "output_type": "stream",
          "text": [
            "False\n"
          ]
        }
      ],
      "source": [
        "def vegetarian (order, menu):\n",
        "    is_vegetarian = True \n",
        "    for item in order:\n",
        "        if item in menu and not menu[item][1]:\n",
        "            is_vegetarian = False\n",
        "    return is_vegetarian\n",
        "\n",
        "lunch_order2 = {'salad', 'burger', 'water'} \n",
        "print (vegetarian(lunch_order2, menu))"
      ]
    },
    {
      "cell_type": "markdown",
      "metadata": {},
      "source": [
        "### Q1.e\n",
        "\n",
        "When you have completed your menu in the part (c) you can remove the `#` charcters make this code run:"
      ]
    },
    {
      "cell_type": "code",
      "execution_count": 9,
      "metadata": {},
      "outputs": [
        {
          "data": {
            "text/plain": [
              "{'name': ['salad',\n",
              "  'soup',\n",
              "  'pasta',\n",
              "  'sandwich',\n",
              "  'burger',\n",
              "  'fries',\n",
              "  'cake',\n",
              "  'cookie',\n",
              "  'water',\n",
              "  'coffee',\n",
              "  'soda'],\n",
              " 'price': [8, 5, 12, 9, 13, 6, 6, 3, 0, 2, 3],\n",
              " 'vegetarian': [True,\n",
              "  False,\n",
              "  True,\n",
              "  False,\n",
              "  False,\n",
              "  True,\n",
              "  True,\n",
              "  True,\n",
              "  True,\n",
              "  True,\n",
              "  True]}"
            ]
          },
          "execution_count": 9,
          "metadata": {},
          "output_type": "execute_result"
        }
      ],
      "source": [
        "menu_dict = {\n",
        "  \"name\": list(menu.keys()),\n",
        "  \"price\": [i[0] for i in menu.values()],\n",
        "  \"vegetarian\": [i[1] for i in menu.values()]\n",
        " }\n",
        "menu_dict"
      ]
    },
    {
      "cell_type": "markdown",
      "metadata": {},
      "source": [
        "Use this table to compute the following:\n",
        "\n",
        "* What is the price of the most expensive item in the list?\n",
        "* What is the name of the most expensive item? (You can use the `np.argmax()` function to help you.)\n",
        "* How many vegetarian items are there?\n",
        "\n"
      ]
    },
    {
      "cell_type": "code",
      "execution_count": 10,
      "metadata": {},
      "outputs": [
        {
          "name": "stdout",
          "output_type": "stream",
          "text": [
            "13\n"
          ]
        }
      ],
      "source": [
        "most_expensive_price = max(price for price, _ in menu.values())\n",
        "print(most_expensive_price)"
      ]
    },
    {
      "cell_type": "code",
      "execution_count": 11,
      "metadata": {},
      "outputs": [
        {
          "name": "stdout",
          "output_type": "stream",
          "text": [
            "burger\n"
          ]
        }
      ],
      "source": [
        "import numpy as np\n",
        "prices = np.array([price for price, _ in menu.values()])\n",
        "item_name = list(menu.keys())\n",
        "max_index = np.argmax(prices)\n",
        "most_expensive_name = item_name[max_index]\n",
        "print(most_expensive_name)"
      ]
    },
    {
      "cell_type": "code",
      "execution_count": 12,
      "metadata": {},
      "outputs": [
        {
          "name": "stdout",
          "output_type": "stream",
          "text": [
            "8\n"
          ]
        }
      ],
      "source": [
        "vegetarian_count = sum(1 for _, is_vegetarian in menu.values() if is_vegetarian)\n",
        "print (vegetarian_count)"
      ]
    },
    {
      "cell_type": "markdown",
      "metadata": {},
      "source": [
        "\n",
        "\n",
        "### Question 2"
      ]
    },
    {
      "cell_type": "code",
      "execution_count": 13,
      "metadata": {},
      "outputs": [],
      "source": [
        "# run this to do question 2\n",
        "import pandas as pd"
      ]
    },
    {
      "cell_type": "markdown",
      "metadata": {},
      "source": [
        "### Q2.a\n",
        "\n",
        "Here's a Pandas `DataFrame` version of our menu table."
      ]
    },
    {
      "cell_type": "code",
      "execution_count": 14,
      "metadata": {},
      "outputs": [],
      "source": [
        "menu_df = pd.DataFrame({'name': ['salad',\n",
        "  'soup',\n",
        "  'pasta',\n",
        "  'sandwich',\n",
        "  'burger',\n",
        "  'fries',\n",
        "  'cake',\n",
        "  'cookie',\n",
        "  'water',\n",
        "  'coffee',\n",
        "  'soda'],\n",
        " 'price': [8, 5, 12, 9, 13, 6, 6, 3, 0, 2, 3],\n",
        " 'vegetarian': [True,\n",
        "  False,\n",
        "  True,\n",
        "  False,\n",
        "  False,\n",
        "  True,\n",
        "  True,\n",
        "  True,\n",
        "  True,\n",
        "  True,\n",
        "  True]})"
      ]
    },
    {
      "cell_type": "markdown",
      "metadata": {},
      "source": [
        "Using **methods** for Series objects (i.e., methods called on the columns of the table. Compute the following:\n",
        "\n",
        "* The name of the least expensive item on the list.\n",
        "* The number of items that cost between 5 and 10 dollars (inclusive).\n",
        "* The names all of vegetarian items that cost more than 10 dollars."
      ]
    },
    {
      "cell_type": "code",
      "execution_count": 15,
      "metadata": {},
      "outputs": [
        {
          "name": "stdout",
          "output_type": "stream",
          "text": [
            "water\n"
          ]
        }
      ],
      "source": [
        "df = pd.DataFrame(menu_df)\n",
        "least_expensive = df.loc[df['price'].idxmin(), 'name'] # use index min not min to sort\n",
        "print(least_expensive)\n"
      ]
    },
    {
      "cell_type": "code",
      "execution_count": 16,
      "metadata": {},
      "outputs": [
        {
          "data": {
            "text/plain": [
              "5"
            ]
          },
          "execution_count": 16,
          "metadata": {},
          "output_type": "execute_result"
        }
      ],
      "source": [
        "below_5 = df.loc[df['price'] < 5 ]\n",
        "below_10 = df.loc[df['price'] <= 10]\n",
        "len(below_10) - len (below_5)\n"
      ]
    },
    {
      "cell_type": "code",
      "execution_count": 17,
      "metadata": {},
      "outputs": [
        {
          "name": "stdout",
          "output_type": "stream",
          "text": [
            "2    pasta\n",
            "Name: name, dtype: object\n"
          ]
        }
      ],
      "source": [
        "expensive_vegetarian = df.loc[(df['price'] > 10) & (df['vegetarian'] == True), 'name']\n",
        "print (expensive_vegetarian)"
      ]
    },
    {
      "cell_type": "markdown",
      "metadata": {},
      "source": [
        "How many vegetarian items are in this menu?"
      ]
    },
    {
      "cell_type": "code",
      "execution_count": 18,
      "metadata": {},
      "outputs": [
        {
          "name": "stdout",
          "output_type": "stream",
          "text": [
            "8\n"
          ]
        }
      ],
      "source": [
        "vegetarian_counts = df['vegetarian'].sum()\n",
        "print (vegetarian_counts)"
      ]
    },
    {
      "cell_type": "markdown",
      "metadata": {},
      "source": [
        "## Q2.c\n",
        "\n",
        "Let's use these techniques on some real data!"
      ]
    },
    {
      "cell_type": "code",
      "execution_count": 19,
      "metadata": {},
      "outputs": [
        {
          "data": {
            "text/plain": [
              "Index(['duration_ms', 'track.explicit', 'key', 'danceability', 'energy',\n",
              "       'loudness', 'acousticness', 'instrumentalness', 'liveness', 'tempo',\n",
              "       'time_signature', 'track.popularity', 'track.album.release_date',\n",
              "       'track.name', 'artist.name'],\n",
              "      dtype='object')"
            ]
          },
          "execution_count": 19,
          "metadata": {},
          "output_type": "execute_result"
        }
      ],
      "source": [
        "spotify = pd.read_csv(\"./spotify.csv\")\n",
        "spotify.columns"
      ]
    },
    {
      "cell_type": "markdown",
      "metadata": {},
      "source": [
        "Using Python and Pandas, answer the following questions:\n",
        "\n",
        "* How many songs have a popularity greater than 80?\n",
        "* For songs with a popularity greater than 80, what is the shortest song (in miliseconds)?\n",
        "* What is the name of the song with popularity greater than 80 that has the slowest tempo?"
      ]
    },
    {
      "cell_type": "code",
      "execution_count": 20,
      "metadata": {},
      "outputs": [
        {
          "name": "stdout",
          "output_type": "stream",
          "text": [
            "84\n"
          ]
        }
      ],
      "source": [
        "very_popular = spotify['track.popularity'] > 80\n",
        "count_popularity = very_popular.sum()\n",
        "print (count_popularity)\n",
        "\n",
        "#short_popular = very_popular (spotify['duration_ms'].idxmin(), ['track.name'])"
      ]
    },
    {
      "cell_type": "code",
      "execution_count": 21,
      "metadata": {},
      "outputs": [
        {
          "name": "stdout",
          "output_type": "stream",
          "text": [
            "Uno\n"
          ]
        }
      ],
      "source": [
        "short_popular = spotify[very_popular]['duration_ms'].idxmin()\n",
        "short_popular_name = spotify.loc[short_popular, 'track.name']\n",
        "print(short_popular_name)"
      ]
    },
    {
      "cell_type": "markdown",
      "metadata": {},
      "source": [
        "### Q2.d\n",
        "\n",
        "Here is a little code that will create a new column with four (approximately) evenly sized groups based on popularly (low, medium, medium high, and high). The code after creating the columns shows how many rows are in each group. There are a few songs with the same popularity value, which makes it difficult to get exactly evenly sized groups, but this is pretty close. The `(a, b]` output on the left shows the popularity range of that group."
      ]
    },
    {
      "cell_type": "code",
      "execution_count": 22,
      "metadata": {},
      "outputs": [
        {
          "data": {
            "text/plain": [
              "popgrp\n",
              "(-0.001, 41.0]    250\n",
              "(53.0, 67.0]      242\n",
              "(67.0, 100.0]     238\n",
              "(41.0, 53.0]      237\n",
              "Name: count, dtype: int64"
            ]
          },
          "execution_count": 22,
          "metadata": {},
          "output_type": "execute_result"
        }
      ],
      "source": [
        "spotify[\"popgrp\"] = pd.qcut(spotify[\"track.popularity\"], 4)\n",
        "spotify[\"popgrp\"].value_counts()"
      ]
    },
    {
      "cell_type": "markdown",
      "metadata": {},
      "source": [
        "For each group, find the number of explicit songs using the `\"track.explicit\"` column. Which group has the most explicit songs?"
      ]
    },
    {
      "cell_type": "code",
      "execution_count": 23,
      "metadata": {},
      "outputs": [
        {
          "data": {
            "text/plain": [
              "popgrp\n",
              "(-0.001, 41.0]    29\n",
              "(41.0, 53.0]      24\n",
              "(53.0, 67.0]      32\n",
              "(67.0, 100.0]     73\n",
              "Name: track.explicit, dtype: int64"
            ]
          },
          "execution_count": 23,
          "metadata": {},
          "output_type": "execute_result"
        }
      ],
      "source": [
        "spotify.groupby('popgrp')['track.explicit'].sum()"
      ]
    },
    {
      "cell_type": "markdown",
      "metadata": {},
      "source": [
        "### Q2.e\n",
        "\n",
        "Create a new column that is the product of `danceability` and `energy`. Find the song with the highest product of danceability and energy. Find the tempo of this song. Is it a particularly fast song in terms of tempo? How many songs are faster than this song? How many are slower?"
      ]
    },
    {
      "cell_type": "code",
      "execution_count": 24,
      "metadata": {},
      "outputs": [
        {
          "name": "stdout",
          "output_type": "stream",
          "text": [
            "0      0.244160\n",
            "1      0.193584\n",
            "2      0.207336\n",
            "3      0.220796\n",
            "4      0.142845\n",
            "         ...   \n",
            "962    0.393328\n",
            "963    0.327180\n",
            "964    0.548268\n",
            "965    0.381632\n",
            "966    0.753792\n",
            "Name: party, Length: 967, dtype: float64\n"
          ]
        }
      ],
      "source": [
        "spotify['party'] = spotify['danceability'] * spotify['energy']\n",
        "print (spotify['party'])"
      ]
    },
    {
      "cell_type": "code",
      "execution_count": 25,
      "metadata": {},
      "outputs": [
        {
          "name": "stdout",
          "output_type": "stream",
          "text": [
            "Miracle - Radio Edit\n"
          ]
        }
      ],
      "source": [
        "most_party = spotify['party'].idxmax()\n",
        "most_party_name = spotify.loc[most_party, 'track.name']\n",
        "print(most_party_name)"
      ]
    },
    {
      "cell_type": "code",
      "execution_count": 28,
      "metadata": {},
      "outputs": [
        {
          "data": {
            "text/plain": [
              "np.float64(121.98)"
            ]
          },
          "execution_count": 28,
          "metadata": {},
          "output_type": "execute_result"
        }
      ],
      "source": [
        "spotify.loc[most_party, 'tempo']"
      ]
    },
    {
      "cell_type": "code",
      "execution_count": 36,
      "metadata": {},
      "outputs": [
        {
          "name": "stdout",
          "output_type": "stream",
          "text": [
            "394\n",
            "571\n"
          ]
        }
      ],
      "source": [
        "faster_songs = len(spotify[spotify['tempo'] > 121.98])\n",
        "print (faster_songs) # prints songs that are faster than new column\n",
        "\n",
        "slower_songs = len(spotify[spotify['tempo'] < 121.98])\n",
        "print (slower_songs) # prints songs that are slower than new column "
      ]
    }
  ],
  "metadata": {
    "kernelspec": {
      "display_name": "Python 3 (ipykernel)",
      "language": "python",
      "name": "python3",
      "path": "/Users/mark/Documents/Professional/Teaching/umich/data-science-101-materials/env/share/jupyter/kernels/python3"
    },
    "language_info": {
      "codemirror_mode": {
        "name": "ipython",
        "version": 3
      },
      "file_extension": ".py",
      "mimetype": "text/x-python",
      "name": "python",
      "nbconvert_exporter": "python",
      "pygments_lexer": "ipython3",
      "version": "3.12.1"
    }
  },
  "nbformat": 4,
  "nbformat_minor": 4
}
